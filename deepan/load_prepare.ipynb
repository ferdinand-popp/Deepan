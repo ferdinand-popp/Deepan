{
 "cells": [
  {
   "cell_type": "markdown",
   "metadata": {
    "collapsed": true,
    "pycharm": {
     "is_executing": true
    }
   },
   "source": [
    "# loading TCGA data\n",
    "\n",
    "primarily fixed in workingstation for LUAD and LUSC Lungs\n",
    "\n",
    "1. choose one entity and load all datasets one after another"
   ]
  },
  {
   "cell_type": "code",
   "execution_count": null,
   "metadata": {},
   "outputs": [],
   "source": [
    "#imports and variables set\n",
    "import pandas as pd\n",
    "\n",
    "#url_clinical = r'media/administrator/INTERNAL3_6TB/TCGA_data/clinical_data/LUSC/LUSC_clinical_data_firebrowser_20210125.txt'\n",
    "url_clinical = r'media/administrator/INTERNAL3_6TB/TCGA_data/clinical_data/LUAD/LUAD_clinical_data_firebrowser_20210125.txt'"
   ]
  },
  {
   "cell_type": "code",
   "execution_count": null,
   "metadata": {},
   "outputs": [],
   "source": [
    "#for argument in entities = []\n",
    "#def get_clinical_data(url_clinical):\n",
    "df_raw = pd.read_csv(url_clinical, sep='\\t', index_col=0) #otherwise pd.read_fwf('file.txt', sep='\\s{2,}', header=[0],skiprows=[1])\n",
    "    \n",
    "#inspect \n",
    "cols = list(df_raw.columns) #LUSC 20 #LUAD 20 \n",
    "IDs = list(df_raw.patient) #LUSC 504 #LUAD 522\n",
    "    \n",
    "df_raw.shape"
   ]
  },
  {
   "cell_type": "code",
   "execution_count": null,
   "outputs": [],
   "source": [
    "#check types of cols and adapt them\n",
    "df_raw.info(verbose = True)"
   ],
   "metadata": {
    "collapsed": false,
    "pycharm": {
     "name": "#%%\n"
    }
   }
  },
  {
   "cell_type": "code",
   "execution_count": null,
   "outputs": [],
   "source": [
    "#look at statistics\n",
    "df_raw.isnull().sum()\n",
    "df_raw.describe()"
   ],
   "metadata": {
    "collapsed": false,
    "pycharm": {
     "name": "#%%\n"
    }
   }
  },
  {
   "cell_type": "markdown",
   "source": [
    "Add missing values (mean if possible) or kick out?\n",
    "\n"
   ],
   "metadata": {
    "collapsed": false
   }
  },
  {
   "cell_type": "code",
   "execution_count": null,
   "outputs": [],
   "source": [
    "#data_types_dict = {'id': str} \n",
    "#df_raw = df_raw.astype(data_types_dict) "
   ],
   "metadata": {
    "collapsed": false,
    "pycharm": {
     "name": "#%%\n"
    }
   }
  },
  {
   "cell_type": "code",
   "execution_count": null,
   "metadata": {},
   "outputs": [],
   "source": []
  },
  {
   "cell_type": "code",
   "execution_count": null,
   "metadata": {},
   "outputs": [],
   "source": [
    "#look at statistics\n",
    "df_raw.isnull().sum()\n",
    "df_raw.describe()"
   ]
  },
  {
   "cell_type": "markdown",
   "metadata": {},
   "source": [
    "Add missing values (mean if possible) or kick out?\n",
    "\n"
   ]
  },
  {
   "cell_type": "code",
   "execution_count": null,
   "metadata": {},
   "outputs": [],
   "source": [
    "#data_types_dict = {'id': str} \n",
    "#df_raw = df_raw.astype(data_types_dict) "
   ]
  },
  {
   "cell_type": "code",
   "execution_count": null,
   "metadata": {},
   "outputs": [],
   "source": []
  }
 ],
 "metadata": {
  "kernelspec": {
   "display_name": "Python 3",
   "language": "python",
   "name": "python3"
  },
  "language_info": {
   "codemirror_mode": {
    "name": "ipython",
    "version": 3
   },
   "file_extension": ".py",
   "mimetype": "text/x-python",
   "name": "python",
   "nbconvert_exporter": "python",
   "pygments_lexer": "ipython3",
   "version": "3.8.5"
  }
 },
 "nbformat": 4,
 "nbformat_minor": 1
}