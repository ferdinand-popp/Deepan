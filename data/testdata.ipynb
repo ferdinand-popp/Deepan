{
 "cells": [
  {
   "cell_type": "markdown",
   "metadata": {},
   "source": [
    "# Tutorial -> DF to distance matrix"
   ]
  },
  {
   "cell_type": "code",
   "execution_count": 37,
   "metadata": {
    "pycharm": {
     "name": "#%%\n"
    }
   },
   "outputs": [
    {
     "data": {
      "text/html": [
       "<div>\n",
       "<style scoped>\n",
       "    .dataframe tbody tr th:only-of-type {\n",
       "        vertical-align: middle;\n",
       "    }\n",
       "\n",
       "    .dataframe tbody tr th {\n",
       "        vertical-align: top;\n",
       "    }\n",
       "\n",
       "    .dataframe thead th {\n",
       "        text-align: right;\n",
       "    }\n",
       "</style>\n",
       "<table border=\"1\" class=\"dataframe\">\n",
       "  <thead>\n",
       "    <tr style=\"text-align: right;\">\n",
       "      <th></th>\n",
       "      <th>s1</th>\n",
       "      <th>s2</th>\n",
       "      <th>s3</th>\n",
       "      <th>s4</th>\n",
       "    </tr>\n",
       "  </thead>\n",
       "  <tbody>\n",
       "    <tr>\n",
       "      <th>g1</th>\n",
       "      <td>1.2</td>\n",
       "      <td>1.4</td>\n",
       "      <td>2.1</td>\n",
       "      <td>1.5</td>\n",
       "    </tr>\n",
       "    <tr>\n",
       "      <th>g2</th>\n",
       "      <td>3.4</td>\n",
       "      <td>3.1</td>\n",
       "      <td>3.7</td>\n",
       "      <td>3.2</td>\n",
       "    </tr>\n",
       "    <tr>\n",
       "      <th>g3</th>\n",
       "      <td>10.2</td>\n",
       "      <td>10.7</td>\n",
       "      <td>11.3</td>\n",
       "      <td>10.9</td>\n",
       "    </tr>\n",
       "  </tbody>\n",
       "</table>\n",
       "</div>"
      ],
      "text/plain": [
       "      s1    s2    s3    s4\n",
       "g1   1.2   1.4   2.1   1.5\n",
       "g2   3.4   3.1   3.7   3.2\n",
       "g3  10.2  10.7  11.3  10.9"
      ]
     },
     "execution_count": 37,
     "metadata": {},
     "output_type": "execute_result"
    }
   ],
   "source": [
    "#from https://stackoverflow.com/questions/35758612/most-efficient-way-to-construct-similarity-matrix\n",
    "import pandas as pd\n",
    "from scipy.spatial.distance import euclidean, pdist, squareform\n",
    "\n",
    "\n",
    "def similarity_euclid(u, v):\n",
    "    return 1/(1+euclidean(u,v))\n",
    "\n",
    "DF_var = pd.DataFrame.from_dict({\"s1\":[1.2,3.4,10.2],\"s2\":[1.4,3.1,10.7],\"s3\":[2.1,3.7,11.3],\"s4\":[1.5,3.2,10.9]})\n",
    "DF_var.index = [\"g1\",\"g2\",\"g3\"]\n",
    "\n",
    "DF_var"
   ]
  },
  {
   "cell_type": "code",
   "execution_count": 104,
   "metadata": {},
   "outputs": [
    {
     "data": {
      "text/plain": [
       "array([0.21596281, 0.05140761, 0.06302091])"
      ]
     },
     "execution_count": 104,
     "metadata": {},
     "output_type": "execute_result"
    }
   ],
   "source": [
    "dists = pdist(DF_var, similarity_euclid) #or cdist, prebuilt with metric or custom\n",
    "dists"
   ]
  },
  {
   "cell_type": "code",
   "execution_count": 99,
   "metadata": {},
   "outputs": [
    {
     "data": {
      "text/plain": [
       "array([[0.        , 0.01457137, 0.0160442 ],\n",
       "       [0.01457137, 0.        , 0.00193392],\n",
       "       [0.0160442 , 0.00193392, 0.        ]])"
      ]
     },
     "execution_count": 99,
     "metadata": {},
     "output_type": "execute_result"
    }
   ],
   "source": [
    "#not used to preserve index and cols\n",
    "#cdists = cdist(DF_var, DF_var, metric='cosine')\n",
    "#cdists"
   ]
  },
  {
   "cell_type": "code",
   "execution_count": 105,
   "metadata": {
    "pycharm": {
     "name": "#%%\n"
    }
   },
   "outputs": [
    {
     "data": {
      "text/html": [
       "<div>\n",
       "<style scoped>\n",
       "    .dataframe tbody tr th:only-of-type {\n",
       "        vertical-align: middle;\n",
       "    }\n",
       "\n",
       "    .dataframe tbody tr th {\n",
       "        vertical-align: top;\n",
       "    }\n",
       "\n",
       "    .dataframe thead th {\n",
       "        text-align: right;\n",
       "    }\n",
       "</style>\n",
       "<table border=\"1\" class=\"dataframe\">\n",
       "  <thead>\n",
       "    <tr style=\"text-align: right;\">\n",
       "      <th></th>\n",
       "      <th>g1</th>\n",
       "      <th>g2</th>\n",
       "      <th>g3</th>\n",
       "    </tr>\n",
       "  </thead>\n",
       "  <tbody>\n",
       "    <tr>\n",
       "      <th>g1</th>\n",
       "      <td>0.000000</td>\n",
       "      <td>0.215963</td>\n",
       "      <td>0.051408</td>\n",
       "    </tr>\n",
       "    <tr>\n",
       "      <th>g2</th>\n",
       "      <td>0.215963</td>\n",
       "      <td>0.000000</td>\n",
       "      <td>0.063021</td>\n",
       "    </tr>\n",
       "    <tr>\n",
       "      <th>g3</th>\n",
       "      <td>0.051408</td>\n",
       "      <td>0.063021</td>\n",
       "      <td>0.000000</td>\n",
       "    </tr>\n",
       "  </tbody>\n",
       "</table>\n",
       "</div>"
      ],
      "text/plain": [
       "          g1        g2        g3\n",
       "g1  0.000000  0.215963  0.051408\n",
       "g2  0.215963  0.000000  0.063021\n",
       "g3  0.051408  0.063021  0.000000"
      ]
     },
     "execution_count": 105,
     "metadata": {},
     "output_type": "execute_result"
    }
   ],
   "source": [
    "DF_euclid = pd.DataFrame(squareform(dists), columns=DF_var.index, index=DF_var.index)\n",
    "DF_euclid"
   ]
  },
  {
   "cell_type": "markdown",
   "metadata": {
    "pycharm": {
     "name": "#%% md\n"
    }
   },
   "source": [
    "## Fake CSV"
   ]
  },
  {
   "cell_type": "code",
   "execution_count": null,
   "metadata": {},
   "outputs": [],
   "source": [
    "data = pd.read_csv('../data/Patients.csv', sep = ';', index_col=0)\n",
    "data"
   ]
  },
  {
   "cell_type": "code",
   "execution_count": null,
   "metadata": {
    "pycharm": {
     "name": "#%%\n"
    }
   },
   "outputs": [],
   "source": [
    "data.Gene = data.Gene.astype('category')\n",
    "data.dtypes"
   ]
  },
  {
   "cell_type": "markdown",
   "metadata": {
    "pycharm": {
     "name": "#%% md\n"
    }
   },
   "source": [
    "## Synthetic data"
   ]
  },
  {
   "cell_type": "code",
   "execution_count": 1,
   "metadata": {},
   "outputs": [],
   "source": [
    "import tarfile\n",
    "import pandas as pd"
   ]
  },
  {
   "cell_type": "code",
   "execution_count": 2,
   "metadata": {
    "pycharm": {
     "name": "#%%\n"
    }
   },
   "outputs": [],
   "source": [
    "with tarfile.open(\"CM_026_formatted_synthetic_data_subset.tar\", \"r:*\") as tar:\n",
    "    csv_path = list(n for n in tar.getnames() if n.endswith('.csv'))[-1]\n",
    "    df = pd.read_csv(tar.extractfile(csv_path), header=0, sep=\",\")\n",
    "#WORKS but tar file contains many files --> stored in data folder"
   ]
  },
  {
   "cell_type": "markdown",
   "metadata": {
    "pycharm": {
     "name": "#%% md\n"
    }
   },
   "source": [
    "### Grabbing one gene expression file, subsetting and preparing"
   ]
  },
  {
   "cell_type": "code",
   "execution_count": 27,
   "metadata": {},
   "outputs": [
    {
     "data": {
      "text/html": [
       "<div>\n",
       "<style scoped>\n",
       "    .dataframe tbody tr th:only-of-type {\n",
       "        vertical-align: middle;\n",
       "    }\n",
       "\n",
       "    .dataframe tbody tr th {\n",
       "        vertical-align: top;\n",
       "    }\n",
       "\n",
       "    .dataframe thead th {\n",
       "        text-align: right;\n",
       "    }\n",
       "</style>\n",
       "<table border=\"1\" class=\"dataframe\">\n",
       "  <thead>\n",
       "    <tr style=\"text-align: right;\">\n",
       "      <th></th>\n",
       "      <th>Unnamed: 0</th>\n",
       "      <th>p227</th>\n",
       "      <th>p359</th>\n",
       "      <th>p533</th>\n",
       "      <th>p149</th>\n",
       "      <th>p160</th>\n",
       "      <th>p2</th>\n",
       "      <th>p261</th>\n",
       "      <th>p486</th>\n",
       "      <th>p367</th>\n",
       "      <th>...</th>\n",
       "      <th>p54</th>\n",
       "      <th>p108</th>\n",
       "      <th>p460</th>\n",
       "      <th>p279</th>\n",
       "      <th>p358</th>\n",
       "      <th>p90</th>\n",
       "      <th>p357</th>\n",
       "      <th>p435</th>\n",
       "      <th>p405</th>\n",
       "      <th>p150</th>\n",
       "    </tr>\n",
       "  </thead>\n",
       "  <tbody>\n",
       "    <tr>\n",
       "      <th>0</th>\n",
       "      <td>ENSG00000203782</td>\n",
       "      <td>0.00</td>\n",
       "      <td>0.00</td>\n",
       "      <td>0.00</td>\n",
       "      <td>0.00</td>\n",
       "      <td>0.00</td>\n",
       "      <td>0.00</td>\n",
       "      <td>0.00</td>\n",
       "      <td>0.00</td>\n",
       "      <td>0.00</td>\n",
       "      <td>...</td>\n",
       "      <td>0.00</td>\n",
       "      <td>0.00</td>\n",
       "      <td>53.00</td>\n",
       "      <td>6.00</td>\n",
       "      <td>0.00</td>\n",
       "      <td>0.00</td>\n",
       "      <td>13.00</td>\n",
       "      <td>5.00</td>\n",
       "      <td>0.00</td>\n",
       "      <td>0.00</td>\n",
       "    </tr>\n",
       "    <tr>\n",
       "      <th>1</th>\n",
       "      <td>ENSG00000163431</td>\n",
       "      <td>2189.24</td>\n",
       "      <td>3642.99</td>\n",
       "      <td>981.26</td>\n",
       "      <td>1903.93</td>\n",
       "      <td>4444.56</td>\n",
       "      <td>412.45</td>\n",
       "      <td>1227.65</td>\n",
       "      <td>1469.23</td>\n",
       "      <td>2713.38</td>\n",
       "      <td>...</td>\n",
       "      <td>198.71</td>\n",
       "      <td>1182.42</td>\n",
       "      <td>1519.64</td>\n",
       "      <td>1403.98</td>\n",
       "      <td>1981.45</td>\n",
       "      <td>110.99</td>\n",
       "      <td>1609.91</td>\n",
       "      <td>3078.21</td>\n",
       "      <td>547.66</td>\n",
       "      <td>1254.12</td>\n",
       "    </tr>\n",
       "    <tr>\n",
       "      <th>2</th>\n",
       "      <td>ENSG00000239696</td>\n",
       "      <td>0.30</td>\n",
       "      <td>0.22</td>\n",
       "      <td>0.05</td>\n",
       "      <td>47.99</td>\n",
       "      <td>62.98</td>\n",
       "      <td>0.68</td>\n",
       "      <td>0.00</td>\n",
       "      <td>0.00</td>\n",
       "      <td>0.00</td>\n",
       "      <td>...</td>\n",
       "      <td>0.21</td>\n",
       "      <td>0.01</td>\n",
       "      <td>1501.08</td>\n",
       "      <td>19.24</td>\n",
       "      <td>34.80</td>\n",
       "      <td>9.35</td>\n",
       "      <td>0.02</td>\n",
       "      <td>4.87</td>\n",
       "      <td>62.09</td>\n",
       "      <td>0.24</td>\n",
       "    </tr>\n",
       "    <tr>\n",
       "      <th>3</th>\n",
       "      <td>ENSG00000237479</td>\n",
       "      <td>0.00</td>\n",
       "      <td>0.00</td>\n",
       "      <td>0.00</td>\n",
       "      <td>1.00</td>\n",
       "      <td>0.00</td>\n",
       "      <td>0.00</td>\n",
       "      <td>0.00</td>\n",
       "      <td>0.00</td>\n",
       "      <td>0.00</td>\n",
       "      <td>...</td>\n",
       "      <td>0.00</td>\n",
       "      <td>0.00</td>\n",
       "      <td>0.00</td>\n",
       "      <td>0.00</td>\n",
       "      <td>0.00</td>\n",
       "      <td>0.00</td>\n",
       "      <td>0.00</td>\n",
       "      <td>0.00</td>\n",
       "      <td>0.00</td>\n",
       "      <td>0.00</td>\n",
       "    </tr>\n",
       "    <tr>\n",
       "      <th>4</th>\n",
       "      <td>ENSG00000227649</td>\n",
       "      <td>1.00</td>\n",
       "      <td>0.00</td>\n",
       "      <td>0.00</td>\n",
       "      <td>0.00</td>\n",
       "      <td>0.00</td>\n",
       "      <td>0.00</td>\n",
       "      <td>0.00</td>\n",
       "      <td>1.00</td>\n",
       "      <td>0.00</td>\n",
       "      <td>...</td>\n",
       "      <td>0.00</td>\n",
       "      <td>1.00</td>\n",
       "      <td>0.00</td>\n",
       "      <td>0.00</td>\n",
       "      <td>0.00</td>\n",
       "      <td>0.00</td>\n",
       "      <td>0.00</td>\n",
       "      <td>0.00</td>\n",
       "      <td>0.00</td>\n",
       "      <td>0.00</td>\n",
       "    </tr>\n",
       "  </tbody>\n",
       "</table>\n",
       "<p>5 rows × 56 columns</p>\n",
       "</div>"
      ],
      "text/plain": [
       "        Unnamed: 0     p227     p359    p533     p149     p160      p2  \\\n",
       "0  ENSG00000203782     0.00     0.00    0.00     0.00     0.00    0.00   \n",
       "1  ENSG00000163431  2189.24  3642.99  981.26  1903.93  4444.56  412.45   \n",
       "2  ENSG00000239696     0.30     0.22    0.05    47.99    62.98    0.68   \n",
       "3  ENSG00000237479     0.00     0.00    0.00     1.00     0.00    0.00   \n",
       "4  ENSG00000227649     1.00     0.00    0.00     0.00     0.00    0.00   \n",
       "\n",
       "      p261     p486     p367  ...     p54     p108     p460     p279     p358  \\\n",
       "0     0.00     0.00     0.00  ...    0.00     0.00    53.00     6.00     0.00   \n",
       "1  1227.65  1469.23  2713.38  ...  198.71  1182.42  1519.64  1403.98  1981.45   \n",
       "2     0.00     0.00     0.00  ...    0.21     0.01  1501.08    19.24    34.80   \n",
       "3     0.00     0.00     0.00  ...    0.00     0.00     0.00     0.00     0.00   \n",
       "4     0.00     1.00     0.00  ...    0.00     1.00     0.00     0.00     0.00   \n",
       "\n",
       "      p90     p357     p435    p405     p150  \n",
       "0    0.00    13.00     5.00    0.00     0.00  \n",
       "1  110.99  1609.91  3078.21  547.66  1254.12  \n",
       "2    9.35     0.02     4.87   62.09     0.24  \n",
       "3    0.00     0.00     0.00    0.00     0.00  \n",
       "4    0.00     0.00     0.00    0.00     0.00  \n",
       "\n",
       "[5 rows x 56 columns]"
      ]
     },
     "execution_count": 27,
     "metadata": {},
     "output_type": "execute_result"
    }
   ],
   "source": [
    "fulldf = pd.read_csv('GRCh37ERCC_ensembl75_genes_count.csv', header=0, sep=',', quotechar='\"', error_bad_lines=False)\n",
    "fulldf.head()"
   ]
  },
  {
   "cell_type": "code",
   "execution_count": 32,
   "metadata": {
    "pycharm": {
     "name": "#%%\n"
    }
   },
   "outputs": [
    {
     "data": {
      "text/html": [
       "<div>\n",
       "<style scoped>\n",
       "    .dataframe tbody tr th:only-of-type {\n",
       "        vertical-align: middle;\n",
       "    }\n",
       "\n",
       "    .dataframe tbody tr th {\n",
       "        vertical-align: top;\n",
       "    }\n",
       "\n",
       "    .dataframe thead th {\n",
       "        text-align: right;\n",
       "    }\n",
       "</style>\n",
       "<table border=\"1\" class=\"dataframe\">\n",
       "  <thead>\n",
       "    <tr style=\"text-align: right;\">\n",
       "      <th>Unnamed: 0</th>\n",
       "      <th>ENSG00000203782</th>\n",
       "      <th>ENSG00000163431</th>\n",
       "      <th>ENSG00000239696</th>\n",
       "      <th>ENSG00000237479</th>\n",
       "      <th>ENSG00000227649</th>\n",
       "      <th>ENSG00000182912</th>\n",
       "      <th>ENSG00000154864</th>\n",
       "      <th>ENSG00000080224</th>\n",
       "      <th>ENSG00000200486</th>\n",
       "      <th>ENSG00000226046</th>\n",
       "    </tr>\n",
       "  </thead>\n",
       "  <tbody>\n",
       "    <tr>\n",
       "      <th>p227</th>\n",
       "      <td>0</td>\n",
       "      <td>2189.24</td>\n",
       "      <td>0.3</td>\n",
       "      <td>0</td>\n",
       "      <td>1</td>\n",
       "      <td>2</td>\n",
       "      <td>1248.26</td>\n",
       "      <td>0</td>\n",
       "      <td>0.02</td>\n",
       "      <td>0</td>\n",
       "    </tr>\n",
       "    <tr>\n",
       "      <th>p359</th>\n",
       "      <td>0</td>\n",
       "      <td>3642.99</td>\n",
       "      <td>0.22</td>\n",
       "      <td>0</td>\n",
       "      <td>0</td>\n",
       "      <td>3</td>\n",
       "      <td>1657.57</td>\n",
       "      <td>31</td>\n",
       "      <td>0</td>\n",
       "      <td>0</td>\n",
       "    </tr>\n",
       "    <tr>\n",
       "      <th>p533</th>\n",
       "      <td>0</td>\n",
       "      <td>981.26</td>\n",
       "      <td>0.05</td>\n",
       "      <td>0</td>\n",
       "      <td>0</td>\n",
       "      <td>4</td>\n",
       "      <td>1090.77</td>\n",
       "      <td>156</td>\n",
       "      <td>0.01</td>\n",
       "      <td>0</td>\n",
       "    </tr>\n",
       "    <tr>\n",
       "      <th>p149</th>\n",
       "      <td>0</td>\n",
       "      <td>1903.93</td>\n",
       "      <td>47.99</td>\n",
       "      <td>1</td>\n",
       "      <td>0</td>\n",
       "      <td>0</td>\n",
       "      <td>1749.69</td>\n",
       "      <td>7</td>\n",
       "      <td>0</td>\n",
       "      <td>0</td>\n",
       "    </tr>\n",
       "    <tr>\n",
       "      <th>p160</th>\n",
       "      <td>0</td>\n",
       "      <td>4444.56</td>\n",
       "      <td>62.98</td>\n",
       "      <td>0</td>\n",
       "      <td>0</td>\n",
       "      <td>4</td>\n",
       "      <td>2879.12</td>\n",
       "      <td>92</td>\n",
       "      <td>0</td>\n",
       "      <td>0</td>\n",
       "    </tr>\n",
       "    <tr>\n",
       "      <th>p2</th>\n",
       "      <td>0</td>\n",
       "      <td>412.45</td>\n",
       "      <td>0.68</td>\n",
       "      <td>0</td>\n",
       "      <td>0</td>\n",
       "      <td>23</td>\n",
       "      <td>2269.72</td>\n",
       "      <td>65</td>\n",
       "      <td>0.03</td>\n",
       "      <td>0</td>\n",
       "    </tr>\n",
       "    <tr>\n",
       "      <th>p261</th>\n",
       "      <td>0</td>\n",
       "      <td>1227.65</td>\n",
       "      <td>0</td>\n",
       "      <td>0</td>\n",
       "      <td>0</td>\n",
       "      <td>0</td>\n",
       "      <td>2483.47</td>\n",
       "      <td>157</td>\n",
       "      <td>0</td>\n",
       "      <td>0</td>\n",
       "    </tr>\n",
       "    <tr>\n",
       "      <th>p486</th>\n",
       "      <td>0</td>\n",
       "      <td>1469.23</td>\n",
       "      <td>0</td>\n",
       "      <td>0</td>\n",
       "      <td>1</td>\n",
       "      <td>16</td>\n",
       "      <td>2223.76</td>\n",
       "      <td>11</td>\n",
       "      <td>0</td>\n",
       "      <td>0</td>\n",
       "    </tr>\n",
       "    <tr>\n",
       "      <th>p367</th>\n",
       "      <td>0</td>\n",
       "      <td>2713.38</td>\n",
       "      <td>0</td>\n",
       "      <td>0</td>\n",
       "      <td>0</td>\n",
       "      <td>0</td>\n",
       "      <td>683.73</td>\n",
       "      <td>8</td>\n",
       "      <td>0.01</td>\n",
       "      <td>0</td>\n",
       "    </tr>\n",
       "  </tbody>\n",
       "</table>\n",
       "</div>"
      ],
      "text/plain": [
       "Unnamed: 0 ENSG00000203782 ENSG00000163431 ENSG00000239696 ENSG00000237479  \\\n",
       "p227                     0         2189.24             0.3               0   \n",
       "p359                     0         3642.99            0.22               0   \n",
       "p533                     0          981.26            0.05               0   \n",
       "p149                     0         1903.93           47.99               1   \n",
       "p160                     0         4444.56           62.98               0   \n",
       "p2                       0          412.45            0.68               0   \n",
       "p261                     0         1227.65               0               0   \n",
       "p486                     0         1469.23               0               0   \n",
       "p367                     0         2713.38               0               0   \n",
       "\n",
       "Unnamed: 0 ENSG00000227649 ENSG00000182912 ENSG00000154864 ENSG00000080224  \\\n",
       "p227                     1               2         1248.26               0   \n",
       "p359                     0               3         1657.57              31   \n",
       "p533                     0               4         1090.77             156   \n",
       "p149                     0               0         1749.69               7   \n",
       "p160                     0               4         2879.12              92   \n",
       "p2                       0              23         2269.72              65   \n",
       "p261                     0               0         2483.47             157   \n",
       "p486                     1              16         2223.76              11   \n",
       "p367                     0               0          683.73               8   \n",
       "\n",
       "Unnamed: 0 ENSG00000200486 ENSG00000226046  \n",
       "p227                  0.02               0  \n",
       "p359                     0               0  \n",
       "p533                  0.01               0  \n",
       "p149                     0               0  \n",
       "p160                     0               0  \n",
       "p2                    0.03               0  \n",
       "p261                     0               0  \n",
       "p486                     0               0  \n",
       "p367                  0.01               0  "
      ]
     },
     "execution_count": 32,
     "metadata": {},
     "output_type": "execute_result"
    }
   ],
   "source": [
    "df = fulldf.iloc[0:10,0:10]\n",
    "df = df.T\n",
    "df.columns = df.iloc[0]\n",
    "df.drop(df.index[0], inplace = True)\n",
    "df"
   ]
  },
  {
   "cell_type": "markdown",
   "metadata": {
    "pycharm": {
     "name": "#%% md\n"
    }
   },
   "source": [
    "### applying distance and matrix"
   ]
  },
  {
   "cell_type": "code",
   "execution_count": 39,
   "metadata": {},
   "outputs": [
    {
     "data": {
      "text/plain": [
       "array([0.00066155, 0.00081357, 0.00172434, 0.00035888, 0.00048742,\n",
       "       0.00063523, 0.00082401, 0.00129638, 0.00036693, 0.00057362,\n",
       "       0.00068274, 0.00030402, 0.00039112, 0.00044496, 0.00074211,\n",
       "       0.00087294, 0.00025642, 0.00076145, 0.00070655, 0.0008044 ,\n",
       "       0.00055977, 0.00035936, 0.00063192, 0.00098888, 0.00154751,\n",
       "       0.00074609, 0.00024513, 0.00030832, 0.00032793, 0.00035729,\n",
       "       0.00117775, 0.00094324, 0.00035762, 0.00259804, 0.00042744,\n",
       "       0.00050483])"
      ]
     },
     "execution_count": 39,
     "metadata": {},
     "output_type": "execute_result"
    }
   ],
   "source": [
    "dists = pdist(df, similarity_euclid)\n",
    "dists"
   ]
  },
  {
   "cell_type": "code",
   "execution_count": 40,
   "metadata": {
    "pycharm": {
     "name": "#%%\n"
    }
   },
   "outputs": [
    {
     "data": {
      "text/html": [
       "<div>\n",
       "<style scoped>\n",
       "    .dataframe tbody tr th:only-of-type {\n",
       "        vertical-align: middle;\n",
       "    }\n",
       "\n",
       "    .dataframe tbody tr th {\n",
       "        vertical-align: top;\n",
       "    }\n",
       "\n",
       "    .dataframe thead th {\n",
       "        text-align: right;\n",
       "    }\n",
       "</style>\n",
       "<table border=\"1\" class=\"dataframe\">\n",
       "  <thead>\n",
       "    <tr style=\"text-align: right;\">\n",
       "      <th></th>\n",
       "      <th>p227</th>\n",
       "      <th>p359</th>\n",
       "      <th>p533</th>\n",
       "      <th>p149</th>\n",
       "      <th>p160</th>\n",
       "      <th>p2</th>\n",
       "      <th>p261</th>\n",
       "      <th>p486</th>\n",
       "      <th>p367</th>\n",
       "    </tr>\n",
       "  </thead>\n",
       "  <tbody>\n",
       "    <tr>\n",
       "      <th>p227</th>\n",
       "      <td>0.000000</td>\n",
       "      <td>0.000662</td>\n",
       "      <td>0.000814</td>\n",
       "      <td>0.001724</td>\n",
       "      <td>0.000359</td>\n",
       "      <td>0.000487</td>\n",
       "      <td>0.000635</td>\n",
       "      <td>0.000824</td>\n",
       "      <td>0.001296</td>\n",
       "    </tr>\n",
       "    <tr>\n",
       "      <th>p359</th>\n",
       "      <td>0.000662</td>\n",
       "      <td>0.000000</td>\n",
       "      <td>0.000367</td>\n",
       "      <td>0.000574</td>\n",
       "      <td>0.000683</td>\n",
       "      <td>0.000304</td>\n",
       "      <td>0.000391</td>\n",
       "      <td>0.000445</td>\n",
       "      <td>0.000742</td>\n",
       "    </tr>\n",
       "    <tr>\n",
       "      <th>p533</th>\n",
       "      <td>0.000814</td>\n",
       "      <td>0.000367</td>\n",
       "      <td>0.000000</td>\n",
       "      <td>0.000873</td>\n",
       "      <td>0.000256</td>\n",
       "      <td>0.000761</td>\n",
       "      <td>0.000707</td>\n",
       "      <td>0.000804</td>\n",
       "      <td>0.000560</td>\n",
       "    </tr>\n",
       "    <tr>\n",
       "      <th>p149</th>\n",
       "      <td>0.001724</td>\n",
       "      <td>0.000574</td>\n",
       "      <td>0.000873</td>\n",
       "      <td>0.000000</td>\n",
       "      <td>0.000359</td>\n",
       "      <td>0.000632</td>\n",
       "      <td>0.000989</td>\n",
       "      <td>0.001548</td>\n",
       "      <td>0.000746</td>\n",
       "    </tr>\n",
       "    <tr>\n",
       "      <th>p160</th>\n",
       "      <td>0.000359</td>\n",
       "      <td>0.000683</td>\n",
       "      <td>0.000256</td>\n",
       "      <td>0.000359</td>\n",
       "      <td>0.000000</td>\n",
       "      <td>0.000245</td>\n",
       "      <td>0.000308</td>\n",
       "      <td>0.000328</td>\n",
       "      <td>0.000357</td>\n",
       "    </tr>\n",
       "    <tr>\n",
       "      <th>p2</th>\n",
       "      <td>0.000487</td>\n",
       "      <td>0.000304</td>\n",
       "      <td>0.000761</td>\n",
       "      <td>0.000632</td>\n",
       "      <td>0.000245</td>\n",
       "      <td>0.000000</td>\n",
       "      <td>0.001178</td>\n",
       "      <td>0.000943</td>\n",
       "      <td>0.000358</td>\n",
       "    </tr>\n",
       "    <tr>\n",
       "      <th>p261</th>\n",
       "      <td>0.000635</td>\n",
       "      <td>0.000391</td>\n",
       "      <td>0.000707</td>\n",
       "      <td>0.000989</td>\n",
       "      <td>0.000308</td>\n",
       "      <td>0.001178</td>\n",
       "      <td>0.000000</td>\n",
       "      <td>0.002598</td>\n",
       "      <td>0.000427</td>\n",
       "    </tr>\n",
       "    <tr>\n",
       "      <th>p486</th>\n",
       "      <td>0.000824</td>\n",
       "      <td>0.000445</td>\n",
       "      <td>0.000804</td>\n",
       "      <td>0.001548</td>\n",
       "      <td>0.000328</td>\n",
       "      <td>0.000943</td>\n",
       "      <td>0.002598</td>\n",
       "      <td>0.000000</td>\n",
       "      <td>0.000505</td>\n",
       "    </tr>\n",
       "    <tr>\n",
       "      <th>p367</th>\n",
       "      <td>0.001296</td>\n",
       "      <td>0.000742</td>\n",
       "      <td>0.000560</td>\n",
       "      <td>0.000746</td>\n",
       "      <td>0.000357</td>\n",
       "      <td>0.000358</td>\n",
       "      <td>0.000427</td>\n",
       "      <td>0.000505</td>\n",
       "      <td>0.000000</td>\n",
       "    </tr>\n",
       "  </tbody>\n",
       "</table>\n",
       "</div>"
      ],
      "text/plain": [
       "          p227      p359      p533      p149      p160        p2      p261  \\\n",
       "p227  0.000000  0.000662  0.000814  0.001724  0.000359  0.000487  0.000635   \n",
       "p359  0.000662  0.000000  0.000367  0.000574  0.000683  0.000304  0.000391   \n",
       "p533  0.000814  0.000367  0.000000  0.000873  0.000256  0.000761  0.000707   \n",
       "p149  0.001724  0.000574  0.000873  0.000000  0.000359  0.000632  0.000989   \n",
       "p160  0.000359  0.000683  0.000256  0.000359  0.000000  0.000245  0.000308   \n",
       "p2    0.000487  0.000304  0.000761  0.000632  0.000245  0.000000  0.001178   \n",
       "p261  0.000635  0.000391  0.000707  0.000989  0.000308  0.001178  0.000000   \n",
       "p486  0.000824  0.000445  0.000804  0.001548  0.000328  0.000943  0.002598   \n",
       "p367  0.001296  0.000742  0.000560  0.000746  0.000357  0.000358  0.000427   \n",
       "\n",
       "          p486      p367  \n",
       "p227  0.000824  0.001296  \n",
       "p359  0.000445  0.000742  \n",
       "p533  0.000804  0.000560  \n",
       "p149  0.001548  0.000746  \n",
       "p160  0.000328  0.000357  \n",
       "p2    0.000943  0.000358  \n",
       "p261  0.002598  0.000427  \n",
       "p486  0.000000  0.000505  \n",
       "p367  0.000505  0.000000  "
      ]
     },
     "execution_count": 40,
     "metadata": {},
     "output_type": "execute_result"
    }
   ],
   "source": [
    "DF_euclid = pd.DataFrame(squareform(dists), columns=df.index, index=df.index)\n",
    "DF_euclid"
   ]
  },
  {
   "cell_type": "code",
   "execution_count": 97,
   "metadata": {},
   "outputs": [
    {
     "data": {
      "text/html": [
       "<div>\n",
       "<style scoped>\n",
       "    .dataframe tbody tr th:only-of-type {\n",
       "        vertical-align: middle;\n",
       "    }\n",
       "\n",
       "    .dataframe tbody tr th {\n",
       "        vertical-align: top;\n",
       "    }\n",
       "\n",
       "    .dataframe thead th {\n",
       "        text-align: right;\n",
       "    }\n",
       "</style>\n",
       "<table border=\"1\" class=\"dataframe\">\n",
       "  <thead>\n",
       "    <tr style=\"text-align: right;\">\n",
       "      <th></th>\n",
       "      <th>p227</th>\n",
       "      <th>p359</th>\n",
       "      <th>p533</th>\n",
       "      <th>p149</th>\n",
       "      <th>p160</th>\n",
       "      <th>p2</th>\n",
       "      <th>p261</th>\n",
       "      <th>p486</th>\n",
       "      <th>p367</th>\n",
       "    </tr>\n",
       "  </thead>\n",
       "  <tbody>\n",
       "    <tr>\n",
       "      <th>p227</th>\n",
       "      <td>True</td>\n",
       "      <td>False</td>\n",
       "      <td>False</td>\n",
       "      <td>False</td>\n",
       "      <td>True</td>\n",
       "      <td>True</td>\n",
       "      <td>False</td>\n",
       "      <td>False</td>\n",
       "      <td>False</td>\n",
       "    </tr>\n",
       "    <tr>\n",
       "      <th>p359</th>\n",
       "      <td>False</td>\n",
       "      <td>True</td>\n",
       "      <td>True</td>\n",
       "      <td>False</td>\n",
       "      <td>False</td>\n",
       "      <td>True</td>\n",
       "      <td>True</td>\n",
       "      <td>True</td>\n",
       "      <td>False</td>\n",
       "    </tr>\n",
       "    <tr>\n",
       "      <th>p533</th>\n",
       "      <td>False</td>\n",
       "      <td>True</td>\n",
       "      <td>True</td>\n",
       "      <td>False</td>\n",
       "      <td>True</td>\n",
       "      <td>False</td>\n",
       "      <td>False</td>\n",
       "      <td>False</td>\n",
       "      <td>False</td>\n",
       "    </tr>\n",
       "    <tr>\n",
       "      <th>p149</th>\n",
       "      <td>False</td>\n",
       "      <td>False</td>\n",
       "      <td>False</td>\n",
       "      <td>True</td>\n",
       "      <td>True</td>\n",
       "      <td>False</td>\n",
       "      <td>False</td>\n",
       "      <td>False</td>\n",
       "      <td>False</td>\n",
       "    </tr>\n",
       "    <tr>\n",
       "      <th>p160</th>\n",
       "      <td>True</td>\n",
       "      <td>False</td>\n",
       "      <td>True</td>\n",
       "      <td>True</td>\n",
       "      <td>True</td>\n",
       "      <td>True</td>\n",
       "      <td>True</td>\n",
       "      <td>True</td>\n",
       "      <td>True</td>\n",
       "    </tr>\n",
       "    <tr>\n",
       "      <th>p2</th>\n",
       "      <td>True</td>\n",
       "      <td>True</td>\n",
       "      <td>False</td>\n",
       "      <td>False</td>\n",
       "      <td>True</td>\n",
       "      <td>True</td>\n",
       "      <td>False</td>\n",
       "      <td>False</td>\n",
       "      <td>True</td>\n",
       "    </tr>\n",
       "    <tr>\n",
       "      <th>p261</th>\n",
       "      <td>False</td>\n",
       "      <td>True</td>\n",
       "      <td>False</td>\n",
       "      <td>False</td>\n",
       "      <td>True</td>\n",
       "      <td>False</td>\n",
       "      <td>True</td>\n",
       "      <td>False</td>\n",
       "      <td>True</td>\n",
       "    </tr>\n",
       "    <tr>\n",
       "      <th>p486</th>\n",
       "      <td>False</td>\n",
       "      <td>True</td>\n",
       "      <td>False</td>\n",
       "      <td>False</td>\n",
       "      <td>True</td>\n",
       "      <td>False</td>\n",
       "      <td>False</td>\n",
       "      <td>True</td>\n",
       "      <td>False</td>\n",
       "    </tr>\n",
       "    <tr>\n",
       "      <th>p367</th>\n",
       "      <td>False</td>\n",
       "      <td>False</td>\n",
       "      <td>False</td>\n",
       "      <td>False</td>\n",
       "      <td>True</td>\n",
       "      <td>True</td>\n",
       "      <td>True</td>\n",
       "      <td>False</td>\n",
       "      <td>True</td>\n",
       "    </tr>\n",
       "  </tbody>\n",
       "</table>\n",
       "</div>"
      ],
      "text/plain": [
       "       p227   p359   p533   p149   p160     p2   p261   p486   p367\n",
       "p227   True  False  False  False   True   True  False  False  False\n",
       "p359  False   True   True  False  False   True   True   True  False\n",
       "p533  False   True   True  False   True  False  False  False  False\n",
       "p149  False  False  False   True   True  False  False  False  False\n",
       "p160   True  False   True   True   True   True   True   True   True\n",
       "p2     True   True  False  False   True   True  False  False   True\n",
       "p261  False   True  False  False   True  False   True  False   True\n",
       "p486  False   True  False  False   True  False  False   True  False\n",
       "p367  False  False  False  False   True   True   True  False   True"
      ]
     },
     "execution_count": 97,
     "metadata": {},
     "output_type": "execute_result"
    }
   ],
   "source": [
    "#try threshold!\n",
    "bln1 = DF_euclid < 0.0005\n",
    "bln1"
   ]
  },
  {
   "cell_type": "markdown",
   "source": [
    "### convert distance to graph network"
   ],
   "metadata": {
    "collapsed": false
   }
  },
  {
   "cell_type": "code",
   "execution_count": null,
   "outputs": [],
   "source": [
    "import networkx as nx\n",
    "G = nx.from_numpy_matrix(bln1.to_numpy())\n",
    "nx.draw(G,edge_color = [ i[2]['weight'] for i in G.edges(data=True) ] )"
   ],
   "metadata": {
    "collapsed": false,
    "pycharm": {
     "name": "#%%\n"
    }
   }
  },
  {
   "cell_type": "markdown",
   "source": [
    "## Scipy try from https://github.com/lwileczek/isomap/blob/master/isomap.py"
   ],
   "metadata": {
    "collapsed": false
   }
  },
  {
   "cell_type": "code",
   "execution_count": null,
   "outputs": [],
   "source": [
    "data = DF_euclid.to_numpy()\n",
    "n, m = data.shape"
   ],
   "metadata": {
    "collapsed": false,
    "pycharm": {
     "name": "#%%\n"
    }
   }
  },
  {
   "cell_type": "code",
   "execution_count": null,
   "outputs": [],
   "source": [
    "#distance measure\n",
    "from scipy.spatial.distance import cdist\n",
    "dist = cdist(data.T, data.T, metric='cosine') #https://docs.scipy.org/doc/scipy/reference/generated/scipy.spatial.distance.cdist.html"
   ],
   "metadata": {
    "collapsed": false,
    "pycharm": {
     "name": "#%%\n"
    }
   }
  },
  {
   "cell_type": "code",
   "execution_count": null,
   "outputs": [],
   "source": [
    "#create adjacency matrix\n",
    "import numpy as np\n",
    "adj =  np.zeros((m, m))\n",
    "adj"
   ],
   "metadata": {
    "collapsed": false,
    "pycharm": {
     "name": "#%%\n"
    }
   }
  },
  {
   "cell_type": "code",
   "execution_count": null,
   "outputs": [],
   "source": [
    "bln = dist < 0.2\n",
    "bln"
   ],
   "metadata": {
    "collapsed": false,
    "pycharm": {
     "name": "#%%\n"
    }
   }
  },
  {
   "cell_type": "code",
   "execution_count": null,
   "outputs": [],
   "source": [
    "adj[bln] = dist[bln]\n",
    "adj"
   ],
   "metadata": {
    "collapsed": false,
    "pycharm": {
     "name": "#%%\n"
    }
   }
  },
  {
   "cell_type": "markdown",
   "metadata": {},
   "source": [
    "adj[bln] = dist[bln]\n",
    "adj"
   ]
  },
  {
   "cell_type": "code",
   "execution_count": 98,
   "metadata": {},
   "outputs": [
    {
     "data": {
      "image/png": "[encoded data removed]",
      "text/plain": [
       "<Figure size 432x288 with 1 Axes>"
      ]
     },
     "metadata": {},
     "output_type": "display_data"
    }
   ],
   "source": [
    "import networkx as nx\n",
    "G = nx.from_numpy_matrix(bln1.to_numpy())\n",
    "nx.draw(G,edge_color = [ i[2]['weight'] for i in G.edges(data=True) ] )"
   ]
  },
  {
   "cell_type": "markdown",
   "metadata": {},
   "source": [
    "## Scipy try from https://github.com/lwileczek/isomap/blob/master/isomap.py"
   ]
  },
  {
   "cell_type": "code",
   "execution_count": 52,
   "metadata": {},
   "outputs": [],
   "source": [
    "data = DF_euclid.to_numpy()\n",
    "n, m = data.shape"
   ]
  },
  {
   "cell_type": "code",
   "execution_count": 56,
   "metadata": {},
   "outputs": [
    {
     "data": {
      "text/plain": [
       "array([[1.11022302e-16, 2.10027720e-01, 2.11877462e-01, 4.38741085e-01,\n",
       "        2.01267722e-01, 2.35217970e-01, 3.17749969e-01, 2.98562764e-01,\n",
       "        3.83492893e-01],\n",
       "       [2.10027720e-01, 0.00000000e+00, 1.51715524e-01, 2.13686782e-01,\n",
       "        3.14850119e-01, 2.37134223e-01, 3.37972872e-01, 3.15957566e-01,\n",
       "        2.53220252e-01],\n",
       "       [2.11877462e-01, 1.51715524e-01, 0.00000000e+00, 1.86108343e-01,\n",
       "        1.70675307e-01, 2.16423482e-01, 2.19571871e-01, 2.27515996e-01,\n",
       "        1.81894046e-01],\n",
       "       [4.38741085e-01, 2.13686782e-01, 1.86108343e-01, 0.00000000e+00,\n",
       "        2.21742223e-01, 1.78509134e-01, 2.44302668e-01, 4.00944970e-01,\n",
       "        1.72075875e-01],\n",
       "       [2.01267722e-01, 3.14850119e-01, 1.70675307e-01, 2.21742223e-01,\n",
       "        0.00000000e+00, 2.39463553e-01, 3.37906833e-01, 3.13613190e-01,\n",
       "        1.64248812e-01],\n",
       "       [2.35217970e-01, 2.37134223e-01, 2.16423482e-01, 1.78509134e-01,\n",
       "        2.39463553e-01, 0.00000000e+00, 3.19929167e-01, 1.87734544e-01,\n",
       "        2.54159242e-01],\n",
       "       [3.17749969e-01, 3.37972872e-01, 2.19571871e-01, 2.44302668e-01,\n",
       "        3.37906833e-01, 3.19929167e-01, 1.11022302e-16, 6.21521935e-01,\n",
       "        3.50431496e-01],\n",
       "       [2.98562764e-01, 3.15957566e-01, 2.27515996e-01, 4.00944970e-01,\n",
       "        3.13613190e-01, 1.87734544e-01, 6.21521935e-01, 0.00000000e+00,\n",
       "        3.20750431e-01],\n",
       "       [3.83492893e-01, 2.53220252e-01, 1.81894046e-01, 1.72075875e-01,\n",
       "        1.64248812e-01, 2.54159242e-01, 3.50431496e-01, 3.20750431e-01,\n",
       "        0.00000000e+00]])"
      ]
     },
     "execution_count": 56,
     "metadata": {},
     "output_type": "execute_result"
    }
   ],
   "source": [
    "#distance measure\n",
    "from scipy.spatial.distance import cdist\n",
    "dist = cdist(data.T, data.T, metric='cosine') #https://docs.scipy.org/doc/scipy/reference/generated/scipy.spatial.distance.cdist.html"
   ]
  },
  {
   "cell_type": "code",
   "execution_count": 87,
   "metadata": {},
   "outputs": [
    {
     "data": {
      "text/plain": [
       "array([[0., 0., 0., 0., 0., 0., 0., 0., 0.],\n",
       "       [0., 0., 0., 0., 0., 0., 0., 0., 0.],\n",
       "       [0., 0., 0., 0., 0., 0., 0., 0., 0.],\n",
       "       [0., 0., 0., 0., 0., 0., 0., 0., 0.],\n",
       "       [0., 0., 0., 0., 0., 0., 0., 0., 0.],\n",
       "       [0., 0., 0., 0., 0., 0., 0., 0., 0.],\n",
       "       [0., 0., 0., 0., 0., 0., 0., 0., 0.],\n",
       "       [0., 0., 0., 0., 0., 0., 0., 0., 0.],\n",
       "       [0., 0., 0., 0., 0., 0., 0., 0., 0.]])"
      ]
     },
     "execution_count": 87,
     "metadata": {},
     "output_type": "execute_result"
    }
   ],
   "source": [
    "#create adjacency matrix\n",
    "import numpy as np\n",
    "adj =  np.zeros((m, m))\n",
    "adj"
   ]
  },
  {
   "cell_type": "code",
   "execution_count": 88,
   "metadata": {},
   "outputs": [
    {
     "data": {
      "text/plain": [
       "array([[ True, False, False, False, False, False, False, False, False],\n",
       "       [False,  True,  True, False, False, False, False, False, False],\n",
       "       [False,  True,  True,  True,  True, False, False, False,  True],\n",
       "       [False, False,  True,  True, False,  True, False, False,  True],\n",
       "       [False, False,  True, False,  True, False, False, False,  True],\n",
       "       [False, False, False,  True, False,  True, False,  True, False],\n",
       "       [False, False, False, False, False, False,  True, False, False],\n",
       "       [False, False, False, False, False,  True, False,  True, False],\n",
       "       [False, False,  True,  True,  True, False, False, False,  True]])"
      ]
     },
     "execution_count": 88,
     "metadata": {},
     "output_type": "execute_result"
    }
   ],
   "source": [
    "bln = dist < 0.2\n",
    "bln"
   ]
  },
  {
   "cell_type": "code",
   "execution_count": 89,
   "metadata": {},
   "outputs": [
    {
     "data": {
      "text/plain": [
       "array([[1.11022302e-16, 0.00000000e+00, 0.00000000e+00, 0.00000000e+00,\n",
       "        0.00000000e+00, 0.00000000e+00, 0.00000000e+00, 0.00000000e+00,\n",
       "        0.00000000e+00],\n",
       "       [0.00000000e+00, 0.00000000e+00, 1.51715524e-01, 0.00000000e+00,\n",
       "        0.00000000e+00, 0.00000000e+00, 0.00000000e+00, 0.00000000e+00,\n",
       "        0.00000000e+00],\n",
       "       [0.00000000e+00, 1.51715524e-01, 0.00000000e+00, 1.86108343e-01,\n",
       "        1.70675307e-01, 0.00000000e+00, 0.00000000e+00, 0.00000000e+00,\n",
       "        1.81894046e-01],\n",
       "       [0.00000000e+00, 0.00000000e+00, 1.86108343e-01, 0.00000000e+00,\n",
       "        0.00000000e+00, 1.78509134e-01, 0.00000000e+00, 0.00000000e+00,\n",
       "        1.72075875e-01],\n",
       "       [0.00000000e+00, 0.00000000e+00, 1.70675307e-01, 0.00000000e+00,\n",
       "        0.00000000e+00, 0.00000000e+00, 0.00000000e+00, 0.00000000e+00,\n",
       "        1.64248812e-01],\n",
       "       [0.00000000e+00, 0.00000000e+00, 0.00000000e+00, 1.78509134e-01,\n",
       "        0.00000000e+00, 0.00000000e+00, 0.00000000e+00, 1.87734544e-01,\n",
       "        0.00000000e+00],\n",
       "       [0.00000000e+00, 0.00000000e+00, 0.00000000e+00, 0.00000000e+00,\n",
       "        0.00000000e+00, 0.00000000e+00, 1.11022302e-16, 0.00000000e+00,\n",
       "        0.00000000e+00],\n",
       "       [0.00000000e+00, 0.00000000e+00, 0.00000000e+00, 0.00000000e+00,\n",
       "        0.00000000e+00, 1.87734544e-01, 0.00000000e+00, 0.00000000e+00,\n",
       "        0.00000000e+00],\n",
       "       [0.00000000e+00, 0.00000000e+00, 1.81894046e-01, 1.72075875e-01,\n",
       "        1.64248812e-01, 0.00000000e+00, 0.00000000e+00, 0.00000000e+00,\n",
       "        0.00000000e+00]])"
      ]
     },
     "execution_count": 89,
     "metadata": {},
     "output_type": "execute_result"
    }
   ],
   "source": [
    "adj[bln] = dist[bln]\n",
    "adj"
   ]
  }
 ],
 "metadata": {
  "kernelspec": {
   "display_name": "Python 3",
   "language": "python",
   "name": "python3"
  },
  "language_info": {
   "codemirror_mode": {
    "name": "ipython",
    "version": 3
   },
   "file_extension": ".py",
   "mimetype": "text/x-python",
   "name": "python",
   "nbconvert_exporter": "python",
   "pygments_lexer": "ipython3",
   "version": "3.8.5"
  },
  "pycharm": {
   "stem_cell": {
    "cell_type": "raw",
    "source": [
     "import pandas as pd\n",
     "df = pd.read_csv(r'C:\\Users\\Ferdi\\PycharmProjects\\Deepan\\data\\CM_026_formatted_synthetic_data_subset.tar', header=0, sep=',', quotechar='\"', error_bad_lines=True)\n",
     "\n"
    ],
    "metadata": {
     "collapsed": false
    }
   }
  }
 },
 "nbformat": 4,
 "nbformat_minor": 1
}